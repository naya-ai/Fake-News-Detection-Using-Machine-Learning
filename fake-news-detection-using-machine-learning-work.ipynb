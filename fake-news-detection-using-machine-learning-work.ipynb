{
 "cells": [
  {
   "cell_type": "code",
   "execution_count": 1,
   "id": "881a61ff",
   "metadata": {
    "execution": {
     "iopub.execute_input": "2024-10-22T02:08:32.089485Z",
     "iopub.status.busy": "2024-10-22T02:08:32.089078Z",
     "iopub.status.idle": "2024-10-22T02:08:54.578357Z",
     "shell.execute_reply": "2024-10-22T02:08:54.577176Z"
    },
    "papermill": {
     "duration": 22.502234,
     "end_time": "2024-10-22T02:08:54.581249",
     "exception": false,
     "start_time": "2024-10-22T02:08:32.079015",
     "status": "completed"
    },
    "tags": []
   },
   "outputs": [],
   "source": [
    "# General Libraries\n",
    "import os\n",
    "import pandas as pd\n",
    "import numpy as np\n",
    "import matplotlib.pyplot as plt\n",
    "import seaborn as sns\n",
    "import re\n",
    "import string\n",
    "\n",
    "# NLP Libraries\n",
    "import nltk\n",
    "from nltk.corpus import stopwords\n",
    "from nltk.stem import SnowballStemmer, WordNetLemmatizer\n",
    "\n",
    "# Machine Learning Libraries\n",
    "from sklearn.model_selection import train_test_split, cross_val_score, GridSearchCV\n",
    "from sklearn.feature_extraction.text import TfidfVectorizer\n",
    "from sklearn.metrics import accuracy_score, precision_score, recall_score, f1_score, confusion_matrix, classification_report\n",
    "\n",
    "# Machine Learning Models\n",
    "from sklearn.naive_bayes import MultinomialNB\n",
    "from sklearn.linear_model import LogisticRegression\n",
    "\n",
    "# Neural Network Libraries (PyTorch)\n",
    "import torch\n",
    "import torch.nn as nn\n",
    "from torch.utils.data import TensorDataset, DataLoader\n",
    "\n",
    "# Neural Network Libraries (Keras for LSTM)\n",
    "from tensorflow.keras.preprocessing.text import Tokenizer\n",
    "from tensorflow.keras.preprocessing.sequence import pad_sequences\n",
    "from tensorflow.keras.models import Sequential\n",
    "from tensorflow.keras.layers import Embedding, LSTM, Dense, Dropout, Bidirectional\n",
    "from tensorflow.keras.optimizers import Adam\n",
    "from tensorflow.keras.callbacks import EarlyStopping\n",
    "\n",
    "# Word Cloud\n",
    "from wordcloud import WordCloud\n",
    "\n",
    "# Suppress warnings for cleaner output\n",
    "import warnings\n",
    "warnings.filterwarnings('ignore')"
   ]
  },
  {
   "cell_type": "code",
   "execution_count": 2,
   "id": "601c3134",
   "metadata": {
    "execution": {
     "iopub.execute_input": "2024-10-22T02:08:54.599058Z",
     "iopub.status.busy": "2024-10-22T02:08:54.598319Z",
     "iopub.status.idle": "2024-10-22T02:08:55.693799Z",
     "shell.execute_reply": "2024-10-22T02:08:55.692450Z"
    },
    "papermill": {
     "duration": 1.107148,
     "end_time": "2024-10-22T02:08:55.696354",
     "exception": false,
     "start_time": "2024-10-22T02:08:54.589206",
     "status": "completed"
    },
    "tags": []
   },
   "outputs": [
    {
     "name": "stdout",
     "output_type": "stream",
     "text": [
      "[nltk_data] Downloading package stopwords to /usr/share/nltk_data...\n",
      "[nltk_data]   Package stopwords is already up-to-date!\n",
      "[nltk_data] Downloading package wordnet to /usr/share/nltk_data...\n",
      "[nltk_data]   Package wordnet is already up-to-date!\n",
      "[nltk_data] Downloading package omw-1.4 to /usr/share/nltk_data...\n"
     ]
    },
    {
     "data": {
      "text/plain": [
       "True"
      ]
     },
     "execution_count": 2,
     "metadata": {},
     "output_type": "execute_result"
    }
   ],
   "source": [
    "# Download necessary NLTK data packages\n",
    "nltk.download('stopwords')\n",
    "nltk.download('wordnet')\n",
    "nltk.download('omw-1.4')"
   ]
  },
  {
   "cell_type": "code",
   "execution_count": 3,
   "id": "d6831b8a",
   "metadata": {
    "execution": {
     "iopub.execute_input": "2024-10-22T02:08:55.714514Z",
     "iopub.status.busy": "2024-10-22T02:08:55.714066Z",
     "iopub.status.idle": "2024-10-22T02:08:58.432891Z",
     "shell.execute_reply": "2024-10-22T02:08:58.431576Z"
    },
    "papermill": {
     "duration": 2.731034,
     "end_time": "2024-10-22T02:08:58.435566",
     "exception": false,
     "start_time": "2024-10-22T02:08:55.704532",
     "status": "completed"
    },
    "tags": []
   },
   "outputs": [
    {
     "name": "stdout",
     "output_type": "stream",
     "text": [
      "Combined Dataset Sample:\n",
      "                                               title  \\\n",
      "0  As U.S. budget fight looms, Republicans flip t...   \n",
      "1  U.S. military to accept transgender recruits o...   \n",
      "2  Senior U.S. Republican senator: 'Let Mr. Muell...   \n",
      "3  FBI Russia probe helped by Australian diplomat...   \n",
      "4  Trump wants Postal Service to charge 'much mor...   \n",
      "\n",
      "                                                text       subject  \\\n",
      "0  WASHINGTON (Reuters) - The head of a conservat...  politicsNews   \n",
      "1  WASHINGTON (Reuters) - Transgender people will...  politicsNews   \n",
      "2  WASHINGTON (Reuters) - The special counsel inv...  politicsNews   \n",
      "3  WASHINGTON (Reuters) - Trump campaign adviser ...  politicsNews   \n",
      "4  SEATTLE/WASHINGTON (Reuters) - President Donal...  politicsNews   \n",
      "\n",
      "                 date  label  \n",
      "0  December 31, 2017       1  \n",
      "1  December 29, 2017       1  \n",
      "2  December 31, 2017       1  \n",
      "3  December 30, 2017       1  \n",
      "4  December 29, 2017       1  \n"
     ]
    }
   ],
   "source": [
    "# Define the path to the dataset\n",
    "DATA_PATH = '/kaggle/input/fake-news-detection-using-machine-learning/'\n",
    "\n",
    "# Paths to the CSV files\n",
    "true_csv = os.path.join(DATA_PATH, 'True.csv')\n",
    "fake_csv = os.path.join(DATA_PATH, 'Fake.csv')\n",
    "\n",
    "# Check if files exist\n",
    "if not os.path.exists(true_csv) or not os.path.exists(fake_csv):\n",
    "    raise FileNotFoundError(\"True.csv or Fake.csv not found in the specified directory.\")\n",
    "\n",
    "# Load true news\n",
    "true_df = pd.read_csv(true_csv)\n",
    "true_df['label'] = 1  # Label true news as 1\n",
    "\n",
    "# Load fake news\n",
    "fake_df = pd.read_csv(fake_csv)\n",
    "fake_df['label'] = 0  # Label fake news as 0\n",
    "\n",
    "# Combine datasets\n",
    "data_df = pd.concat([true_df, fake_df], axis=0).reset_index(drop=True)\n",
    "\n",
    "# Display the first few rows\n",
    "print(\"Combined Dataset Sample:\")\n",
    "print(data_df.head())"
   ]
  },
  {
   "cell_type": "code",
   "execution_count": 4,
   "id": "1bd10826",
   "metadata": {
    "execution": {
     "iopub.execute_input": "2024-10-22T02:08:58.454483Z",
     "iopub.status.busy": "2024-10-22T02:08:58.454063Z",
     "iopub.status.idle": "2024-10-22T02:08:58.877351Z",
     "shell.execute_reply": "2024-10-22T02:08:58.876212Z"
    },
    "papermill": {
     "duration": 0.436162,
     "end_time": "2024-10-22T02:08:58.879999",
     "exception": false,
     "start_time": "2024-10-22T02:08:58.443837",
     "status": "completed"
    },
    "tags": []
   },
   "outputs": [
    {
     "name": "stdout",
     "output_type": "stream",
     "text": [
      "Removed 209 duplicate rows.\n",
      "Removed 0 rows with missing values.\n"
     ]
    }
   ],
   "source": [
    "# Remove duplicates\n",
    "initial_shape = data_df.shape\n",
    "data_df.drop_duplicates(inplace=True)\n",
    "print(f\"Removed {initial_shape[0] - data_df.shape[0]} duplicate rows.\")\n",
    "\n",
    "# Remove missing values\n",
    "initial_shape = data_df.shape\n",
    "data_df.dropna(inplace=True)\n",
    "print(f\"Removed {initial_shape[0] - data_df.shape[0]} rows with missing values.\")\n",
    "\n",
    "# Reset index after dropping\n",
    "data_df.reset_index(drop=True, inplace=True)"
   ]
  },
  {
   "cell_type": "code",
   "execution_count": 5,
   "id": "4394c374",
   "metadata": {
    "execution": {
     "iopub.execute_input": "2024-10-22T02:08:58.898121Z",
     "iopub.status.busy": "2024-10-22T02:08:58.897669Z",
     "iopub.status.idle": "2024-10-22T02:08:59.171624Z",
     "shell.execute_reply": "2024-10-22T02:08:59.170440Z"
    },
    "papermill": {
     "duration": 0.286051,
     "end_time": "2024-10-22T02:08:59.174220",
     "exception": false,
     "start_time": "2024-10-22T02:08:58.888169",
     "status": "completed"
    },
    "tags": []
   },
   "outputs": [
    {
     "data": {
      "image/png": "[encoded data removed]",
      "text/plain": [
       "<Figure size 600x400 with 1 Axes>"
      ]
     },
     "metadata": {},
     "output_type": "display_data"
    }
   ],
   "source": [
    "# Distribution of labels\n",
    "plt.figure(figsize=(6,4))\n",
    "sns.countplot(x='label', data=data_df)\n",
    "plt.title('Distribution of True and Fake News')\n",
    "plt.xticks([0,1], ['Fake News (0)', 'True News (1)'])\n",
    "plt.xlabel('News Label')\n",
    "plt.ylabel('Count')\n",
    "plt.show()"
   ]
  },
  {
   "cell_type": "code",
   "execution_count": 6,
   "id": "191a0253",
   "metadata": {
    "execution": {
     "iopub.execute_input": "2024-10-22T02:08:59.194705Z",
     "iopub.status.busy": "2024-10-22T02:08:59.193717Z",
     "iopub.status.idle": "2024-10-22T02:13:47.496133Z",
     "shell.execute_reply": "2024-10-22T02:13:47.494854Z"
    },
    "papermill": {
     "duration": 288.324587,
     "end_time": "2024-10-22T02:13:47.507361",
     "exception": false,
     "start_time": "2024-10-22T02:08:59.182774",
     "status": "completed"
    },
    "tags": []
   },
   "outputs": [
    {
     "name": "stdout",
     "output_type": "stream",
     "text": [
      "\n",
      "Sample of Cleaned Text:\n",
      "                                               title  \\\n",
      "0  As U.S. budget fight looms, Republicans flip t...   \n",
      "1  U.S. military to accept transgender recruits o...   \n",
      "2  Senior U.S. Republican senator: 'Let Mr. Muell...   \n",
      "3  FBI Russia probe helped by Australian diplomat...   \n",
      "4  Trump wants Postal Service to charge 'much mor...   \n",
      "\n",
      "                                                text  \\\n",
      "0  WASHINGTON (Reuters) - The head of a conservat...   \n",
      "1  WASHINGTON (Reuters) - Transgender people will...   \n",
      "2  WASHINGTON (Reuters) - The special counsel inv...   \n",
      "3  WASHINGTON (Reuters) - Trump campaign adviser ...   \n",
      "4  SEATTLE/WASHINGTON (Reuters) - President Donal...   \n",
      "\n",
      "                                          text_clean  label  \n",
      "0  us budget fight loom republican flip fiscal sc...      1  \n",
      "1  us militari accept transgend recruit monday pe...      1  \n",
      "2  senior us republican senat let mr mueller job ...      1  \n",
      "3  fbi russia probe help australian diplomat tipo...      1  \n",
      "4  trump want postal servic charg much amazon shi...      1  \n"
     ]
    }
   ],
   "source": [
    "# Initialize SnowballStemmer\n",
    "stemmer = SnowballStemmer(\"english\")\n",
    "\n",
    "# Define stopwords\n",
    "stop_words = set(stopwords.words('english'))\n",
    "\n",
    "def text_preprocessing(text):\n",
    "    # Convert to lowercase\n",
    "    text = text.lower()\n",
    "    # Remove URLs and email addresses\n",
    "    text = re.sub(r'http\\S+|www\\S+|https\\S+|[\\w\\.-]+@[\\w\\.-]+', '', text, flags=re.MULTILINE)\n",
    "    # Remove punctuation\n",
    "    text = text.translate(str.maketrans('', '', string.punctuation))\n",
    "    # Remove numbers\n",
    "    text = re.sub(r'\\d+', '', text)\n",
    "    # Remove extra whitespace\n",
    "    text = text.strip()\n",
    "    # Remove stopwords and perform stemming\n",
    "    tokens = text.split()\n",
    "    tokens = [stemmer.stem(word) for word in tokens if word not in stop_words]\n",
    "    # Rejoin words\n",
    "    text = ' '.join(tokens)\n",
    "    return text\n",
    "\n",
    "# Combine title and text, then preprocess\n",
    "data_df['text_clean'] = data_df['title'] + ' ' + data_df['text']\n",
    "data_df['text_clean'] = data_df['text_clean'].apply(text_preprocessing)\n",
    "\n",
    "# Display the cleaned text\n",
    "print(\"\\nSample of Cleaned Text:\")\n",
    "print(data_df[['title', 'text', 'text_clean', 'label']].head())"
   ]
  },
  {
   "cell_type": "code",
   "execution_count": 7,
   "id": "8572c7b4",
   "metadata": {
    "execution": {
     "iopub.execute_input": "2024-10-22T02:13:47.526962Z",
     "iopub.status.busy": "2024-10-22T02:13:47.526453Z",
     "iopub.status.idle": "2024-10-22T02:13:47.563500Z",
     "shell.execute_reply": "2024-10-22T02:13:47.562223Z"
    },
    "papermill": {
     "duration": 0.050174,
     "end_time": "2024-10-22T02:13:47.566290",
     "exception": false,
     "start_time": "2024-10-22T02:13:47.516116",
     "status": "completed"
    },
    "tags": []
   },
   "outputs": [
    {
     "name": "stdout",
     "output_type": "stream",
     "text": [
      "\n",
      "Training Set Size: 35751 samples\n",
      "Test Set Size: 8938 samples\n"
     ]
    }
   ],
   "source": [
    "# Features and labels\n",
    "X = data_df['text_clean']\n",
    "y = data_df['label']\n",
    "\n",
    "# Split the data into training and test sets (80-20 split)\n",
    "X_train, X_test, y_train, y_test = train_test_split(\n",
    "    X, y, test_size=0.2, random_state=42, stratify=y)\n",
    "\n",
    "print(f\"\\nTraining Set Size: {X_train.shape[0]} samples\")\n",
    "print(f\"Test Set Size: {X_test.shape[0]} samples\")"
   ]
  },
  {
   "cell_type": "code",
   "execution_count": 8,
   "id": "c85a43d0",
   "metadata": {
    "execution": {
     "iopub.execute_input": "2024-10-22T02:13:47.586540Z",
     "iopub.status.busy": "2024-10-22T02:13:47.586107Z",
     "iopub.status.idle": "2024-10-22T02:14:02.563939Z",
     "shell.execute_reply": "2024-10-22T02:14:02.562574Z"
    },
    "papermill": {
     "duration": 14.991093,
     "end_time": "2024-10-22T02:14:02.566381",
     "exception": false,
     "start_time": "2024-10-22T02:13:47.575288",
     "status": "completed"
    },
    "tags": []
   },
   "outputs": [
    {
     "name": "stdout",
     "output_type": "stream",
     "text": [
      "\n",
      "TF-IDF Vectorization Complete. Number of Features: 5000\n"
     ]
    }
   ],
   "source": [
    "# Initialize TF-IDF Vectorizer\n",
    "tfidf_vectorizer = TfidfVectorizer(max_features=5000)\n",
    "\n",
    "# Fit and transform the training data, transform the test data\n",
    "X_train_tfidf = tfidf_vectorizer.fit_transform(X_train)\n",
    "X_test_tfidf = tfidf_vectorizer.transform(X_test)\n",
    "\n",
    "print(f\"\\nTF-IDF Vectorization Complete. Number of Features: {X_train_tfidf.shape[1]}\")"
   ]
  },
  {
   "cell_type": "code",
   "execution_count": 9,
   "id": "236f4e68",
   "metadata": {
    "execution": {
     "iopub.execute_input": "2024-10-22T02:14:02.586807Z",
     "iopub.status.busy": "2024-10-22T02:14:02.585927Z",
     "iopub.status.idle": "2024-10-22T02:14:04.534647Z",
     "shell.execute_reply": "2024-10-22T02:14:04.533226Z"
    },
    "papermill": {
     "duration": 1.962164,
     "end_time": "2024-10-22T02:14:04.537582",
     "exception": false,
     "start_time": "2024-10-22T02:14:02.575418",
     "status": "completed"
    },
    "tags": []
   },
   "outputs": [
    {
     "name": "stdout",
     "output_type": "stream",
     "text": [
      "\n",
      "Top 10 words indicative of True News:\n",
      "thursday: 4.4915\n",
      "us: 4.5593\n",
      "tuesday: 4.8302\n",
      "wednesday: 5.1662\n",
      "washington: 5.2098\n",
      "the: 5.6371\n",
      "it: 5.6822\n",
      "we: 6.0580\n",
      "said: 17.3235\n",
      "reuter: 24.7621\n",
      "\n",
      "Top 10 words indicative of Fake News:\n",
      "video: -9.3009\n",
      "via: -8.1462\n",
      "imag: -6.8222\n",
      "hillari: -5.3830\n",
      "gop: -5.2385\n",
      "wire: -4.5927\n",
      "american: -4.3855\n",
      "america: -4.2803\n",
      "mr: -4.2738\n",
      "obama: -4.1589\n"
     ]
    }
   ],
   "source": [
    "# Feature Selection using Logistic Regression Coefficients\n",
    "lr = LogisticRegression(max_iter=1000)\n",
    "lr.fit(X_train_tfidf, y_train)\n",
    "\n",
    "# Get feature names and their coefficients\n",
    "feature_names = tfidf_vectorizer.get_feature_names_out()\n",
    "coefficients = lr.coef_[0]\n",
    "\n",
    "# Top 10 features indicative of True News\n",
    "top_positive_indices = coefficients.argsort()[-10:]\n",
    "print(\"\\nTop 10 words indicative of True News:\")\n",
    "for index in top_positive_indices:\n",
    "    print(f\"{feature_names[index]}: {coefficients[index]:.4f}\")\n",
    "\n",
    "# Top 10 features indicative of Fake News\n",
    "top_negative_indices = coefficients.argsort()[:10]\n",
    "print(\"\\nTop 10 words indicative of Fake News:\")\n",
    "for index in top_negative_indices:\n",
    "    print(f\"{feature_names[index]}: {coefficients[index]:.4f}\")"
   ]
  },
  {
   "cell_type": "code",
   "execution_count": 10,
   "id": "7dbf182e",
   "metadata": {
    "execution": {
     "iopub.execute_input": "2024-10-22T02:14:04.557805Z",
     "iopub.status.busy": "2024-10-22T02:14:04.557378Z",
     "iopub.status.idle": "2024-10-22T02:14:04.915046Z",
     "shell.execute_reply": "2024-10-22T02:14:04.913591Z"
    },
    "papermill": {
     "duration": 0.37089,
     "end_time": "2024-10-22T02:14:04.917628",
     "exception": false,
     "start_time": "2024-10-22T02:14:04.546738",
     "status": "completed"
    },
    "tags": []
   },
   "outputs": [
    {
     "name": "stdout",
     "output_type": "stream",
     "text": [
      "\n",
      "Naive Bayes Cross-Validation Accuracy: 0.9344 ± 0.0029\n"
     ]
    },
    {
     "data": {
      "text/html": [
       "<style>#sk-container-id-1 {color: black;background-color: white;}#sk-container-id-1 pre{padding: 0;}#sk-container-id-1 div.sk-toggleable {background-color: white;}#sk-container-id-1 label.sk-toggleable__label {cursor: pointer;display: block;width: 100%;margin-bottom: 0;padding: 0.3em;box-sizing: border-box;text-align: center;}#sk-container-id-1 label.sk-toggleable__label-arrow:before {content: \"▸\";float: left;margin-right: 0.25em;color: #696969;}#sk-container-id-1 label.sk-toggleable__label-arrow:hover:before {color: black;}#sk-container-id-1 div.sk-estimator:hover label.sk-toggleable__label-arrow:before {color: black;}#sk-container-id-1 div.sk-toggleable__content {max-height: 0;max-width: 0;overflow: hidden;text-align: left;background-color: #f0f8ff;}#sk-container-id-1 div.sk-toggleable__content pre {margin: 0.2em;color: black;border-radius: 0.25em;background-color: #f0f8ff;}#sk-container-id-1 input.sk-toggleable__control:checked~div.sk-toggleable__content {max-height: 200px;max-width: 100%;overflow: auto;}#sk-container-id-1 input.sk-toggleable__control:checked~label.sk-toggleable__label-arrow:before {content: \"▾\";}#sk-container-id-1 div.sk-estimator input.sk-toggleable__control:checked~label.sk-toggleable__label {background-color: #d4ebff;}#sk-container-id-1 div.sk-label input.sk-toggleable__control:checked~label.sk-toggleable__label {background-color: #d4ebff;}#sk-container-id-1 input.sk-hidden--visually {border: 0;clip: rect(1px 1px 1px 1px);clip: rect(1px, 1px, 1px, 1px);height: 1px;margin: -1px;overflow: hidden;padding: 0;position: absolute;width: 1px;}#sk-container-id-1 div.sk-estimator {font-family: monospace;background-color: #f0f8ff;border: 1px dotted black;border-radius: 0.25em;box-sizing: border-box;margin-bottom: 0.5em;}#sk-container-id-1 div.sk-estimator:hover {background-color: #d4ebff;}#sk-container-id-1 div.sk-parallel-item::after {content: \"\";width: 100%;border-bottom: 1px solid gray;flex-grow: 1;}#sk-container-id-1 div.sk-label:hover label.sk-toggleable__label {background-color: #d4ebff;}#sk-container-id-1 div.sk-serial::before {content: \"\";position: absolute;border-left: 1px solid gray;box-sizing: border-box;top: 0;bottom: 0;left: 50%;z-index: 0;}#sk-container-id-1 div.sk-serial {display: flex;flex-direction: column;align-items: center;background-color: white;padding-right: 0.2em;padding-left: 0.2em;position: relative;}#sk-container-id-1 div.sk-item {position: relative;z-index: 1;}#sk-container-id-1 div.sk-parallel {display: flex;align-items: stretch;justify-content: center;background-color: white;position: relative;}#sk-container-id-1 div.sk-item::before, #sk-container-id-1 div.sk-parallel-item::before {content: \"\";position: absolute;border-left: 1px solid gray;box-sizing: border-box;top: 0;bottom: 0;left: 50%;z-index: -1;}#sk-container-id-1 div.sk-parallel-item {display: flex;flex-direction: column;z-index: 1;position: relative;background-color: white;}#sk-container-id-1 div.sk-parallel-item:first-child::after {align-self: flex-end;width: 50%;}#sk-container-id-1 div.sk-parallel-item:last-child::after {align-self: flex-start;width: 50%;}#sk-container-id-1 div.sk-parallel-item:only-child::after {width: 0;}#sk-container-id-1 div.sk-dashed-wrapped {border: 1px dashed gray;margin: 0 0.4em 0.5em 0.4em;box-sizing: border-box;padding-bottom: 0.4em;background-color: white;}#sk-container-id-1 div.sk-label label {font-family: monospace;font-weight: bold;display: inline-block;line-height: 1.2em;}#sk-container-id-1 div.sk-label-container {text-align: center;}#sk-container-id-1 div.sk-container {/* jupyter's `normalize.less` sets `[hidden] { display: none; }` but bootstrap.min.css set `[hidden] { display: none !important; }` so we also need the `!important` here to be able to override the default hidden behavior on the sphinx rendered scikit-learn.org. See: https://github.com/scikit-learn/scikit-learn/issues/21755 */display: inline-block !important;position: relative;}#sk-container-id-1 div.sk-text-repr-fallback {display: none;}</style><div id=\"sk-container-id-1\" class=\"sk-top-container\"><div class=\"sk-text-repr-fallback\"><pre>MultinomialNB()</pre><b>In a Jupyter environment, please rerun this cell to show the HTML representation or trust the notebook. <br />On GitHub, the HTML representation is unable to render, please try loading this page with nbviewer.org.</b></div><div class=\"sk-container\" hidden><div class=\"sk-item\"><div class=\"sk-estimator sk-toggleable\"><input class=\"sk-toggleable__control sk-hidden--visually\" id=\"sk-estimator-id-1\" type=\"checkbox\" checked><label for=\"sk-estimator-id-1\" class=\"sk-toggleable__label sk-toggleable__label-arrow\">MultinomialNB</label><div class=\"sk-toggleable__content\"><pre>MultinomialNB()</pre></div></div></div></div></div>"
      ],
      "text/plain": [
       "MultinomialNB()"
      ]
     },
     "execution_count": 10,
     "metadata": {},
     "output_type": "execute_result"
    }
   ],
   "source": [
    "# Initialize the Naive Bayes classifier\n",
    "nb_classifier = MultinomialNB()\n",
    "\n",
    "# Cross-validation\n",
    "nb_cv_scores = cross_val_score(nb_classifier, X_train_tfidf, y_train, cv=5)\n",
    "print(f\"\\nNaive Bayes Cross-Validation Accuracy: {nb_cv_scores.mean():.4f} ± {nb_cv_scores.std():.4f}\")\n",
    "\n",
    "# Train the model\n",
    "nb_classifier.fit(X_train_tfidf, y_train)"
   ]
  },
  {
   "cell_type": "code",
   "execution_count": 11,
   "id": "59ab647a",
   "metadata": {
    "execution": {
     "iopub.execute_input": "2024-10-22T02:14:04.939123Z",
     "iopub.status.busy": "2024-10-22T02:14:04.938347Z",
     "iopub.status.idle": "2024-10-22T02:14:14.457616Z",
     "shell.execute_reply": "2024-10-22T02:14:14.456394Z"
    },
    "papermill": {
     "duration": 9.533148,
     "end_time": "2024-10-22T02:14:14.460453",
     "exception": false,
     "start_time": "2024-10-22T02:14:04.927305",
     "status": "completed"
    },
    "tags": []
   },
   "outputs": [
    {
     "name": "stdout",
     "output_type": "stream",
     "text": [
      "Logistic Regression Cross-Validation Accuracy: 0.9875 ± 0.0021\n"
     ]
    },
    {
     "data": {
      "text/html": [
       "<style>#sk-container-id-2 {color: black;background-color: white;}#sk-container-id-2 pre{padding: 0;}#sk-container-id-2 div.sk-toggleable {background-color: white;}#sk-container-id-2 label.sk-toggleable__label {cursor: pointer;display: block;width: 100%;margin-bottom: 0;padding: 0.3em;box-sizing: border-box;text-align: center;}#sk-container-id-2 label.sk-toggleable__label-arrow:before {content: \"▸\";float: left;margin-right: 0.25em;color: #696969;}#sk-container-id-2 label.sk-toggleable__label-arrow:hover:before {color: black;}#sk-container-id-2 div.sk-estimator:hover label.sk-toggleable__label-arrow:before {color: black;}#sk-container-id-2 div.sk-toggleable__content {max-height: 0;max-width: 0;overflow: hidden;text-align: left;background-color: #f0f8ff;}#sk-container-id-2 div.sk-toggleable__content pre {margin: 0.2em;color: black;border-radius: 0.25em;background-color: #f0f8ff;}#sk-container-id-2 input.sk-toggleable__control:checked~div.sk-toggleable__content {max-height: 200px;max-width: 100%;overflow: auto;}#sk-container-id-2 input.sk-toggleable__control:checked~label.sk-toggleable__label-arrow:before {content: \"▾\";}#sk-container-id-2 div.sk-estimator input.sk-toggleable__control:checked~label.sk-toggleable__label {background-color: #d4ebff;}#sk-container-id-2 div.sk-label input.sk-toggleable__control:checked~label.sk-toggleable__label {background-color: #d4ebff;}#sk-container-id-2 input.sk-hidden--visually {border: 0;clip: rect(1px 1px 1px 1px);clip: rect(1px, 1px, 1px, 1px);height: 1px;margin: -1px;overflow: hidden;padding: 0;position: absolute;width: 1px;}#sk-container-id-2 div.sk-estimator {font-family: monospace;background-color: #f0f8ff;border: 1px dotted black;border-radius: 0.25em;box-sizing: border-box;margin-bottom: 0.5em;}#sk-container-id-2 div.sk-estimator:hover {background-color: #d4ebff;}#sk-container-id-2 div.sk-parallel-item::after {content: \"\";width: 100%;border-bottom: 1px solid gray;flex-grow: 1;}#sk-container-id-2 div.sk-label:hover label.sk-toggleable__label {background-color: #d4ebff;}#sk-container-id-2 div.sk-serial::before {content: \"\";position: absolute;border-left: 1px solid gray;box-sizing: border-box;top: 0;bottom: 0;left: 50%;z-index: 0;}#sk-container-id-2 div.sk-serial {display: flex;flex-direction: column;align-items: center;background-color: white;padding-right: 0.2em;padding-left: 0.2em;position: relative;}#sk-container-id-2 div.sk-item {position: relative;z-index: 1;}#sk-container-id-2 div.sk-parallel {display: flex;align-items: stretch;justify-content: center;background-color: white;position: relative;}#sk-container-id-2 div.sk-item::before, #sk-container-id-2 div.sk-parallel-item::before {content: \"\";position: absolute;border-left: 1px solid gray;box-sizing: border-box;top: 0;bottom: 0;left: 50%;z-index: -1;}#sk-container-id-2 div.sk-parallel-item {display: flex;flex-direction: column;z-index: 1;position: relative;background-color: white;}#sk-container-id-2 div.sk-parallel-item:first-child::after {align-self: flex-end;width: 50%;}#sk-container-id-2 div.sk-parallel-item:last-child::after {align-self: flex-start;width: 50%;}#sk-container-id-2 div.sk-parallel-item:only-child::after {width: 0;}#sk-container-id-2 div.sk-dashed-wrapped {border: 1px dashed gray;margin: 0 0.4em 0.5em 0.4em;box-sizing: border-box;padding-bottom: 0.4em;background-color: white;}#sk-container-id-2 div.sk-label label {font-family: monospace;font-weight: bold;display: inline-block;line-height: 1.2em;}#sk-container-id-2 div.sk-label-container {text-align: center;}#sk-container-id-2 div.sk-container {/* jupyter's `normalize.less` sets `[hidden] { display: none; }` but bootstrap.min.css set `[hidden] { display: none !important; }` so we also need the `!important` here to be able to override the default hidden behavior on the sphinx rendered scikit-learn.org. See: https://github.com/scikit-learn/scikit-learn/issues/21755 */display: inline-block !important;position: relative;}#sk-container-id-2 div.sk-text-repr-fallback {display: none;}</style><div id=\"sk-container-id-2\" class=\"sk-top-container\"><div class=\"sk-text-repr-fallback\"><pre>LogisticRegression(max_iter=1000)</pre><b>In a Jupyter environment, please rerun this cell to show the HTML representation or trust the notebook. <br />On GitHub, the HTML representation is unable to render, please try loading this page with nbviewer.org.</b></div><div class=\"sk-container\" hidden><div class=\"sk-item\"><div class=\"sk-estimator sk-toggleable\"><input class=\"sk-toggleable__control sk-hidden--visually\" id=\"sk-estimator-id-2\" type=\"checkbox\" checked><label for=\"sk-estimator-id-2\" class=\"sk-toggleable__label sk-toggleable__label-arrow\">LogisticRegression</label><div class=\"sk-toggleable__content\"><pre>LogisticRegression(max_iter=1000)</pre></div></div></div></div></div>"
      ],
      "text/plain": [
       "LogisticRegression(max_iter=1000)"
      ]
     },
     "execution_count": 11,
     "metadata": {},
     "output_type": "execute_result"
    }
   ],
   "source": [
    "# Initialize the Logistic Regression classifier\n",
    "lr_classifier = LogisticRegression(max_iter=1000)\n",
    "\n",
    "# Cross-validation\n",
    "lr_cv_scores = cross_val_score(lr_classifier, X_train_tfidf, y_train, cv=5)\n",
    "print(f\"Logistic Regression Cross-Validation Accuracy: {lr_cv_scores.mean():.4f} ± {lr_cv_scores.std():.4f}\")\n",
    "\n",
    "# Train the model\n",
    "lr_classifier.fit(X_train_tfidf, y_train)"
   ]
  },
  {
   "cell_type": "code",
   "execution_count": 12,
   "id": "1851cead",
   "metadata": {
    "execution": {
     "iopub.execute_input": "2024-10-22T02:14:14.482939Z",
     "iopub.status.busy": "2024-10-22T02:14:14.481805Z",
     "iopub.status.idle": "2024-10-22T02:14:49.738226Z",
     "shell.execute_reply": "2024-10-22T02:14:49.736970Z"
    },
    "papermill": {
     "duration": 35.279881,
     "end_time": "2024-10-22T02:14:49.750451",
     "exception": false,
     "start_time": "2024-10-22T02:14:14.470570",
     "status": "completed"
    },
    "tags": []
   },
   "outputs": [
    {
     "name": "stdout",
     "output_type": "stream",
     "text": [
      "Epoch [1/5], Loss: 0.0758\n",
      "Epoch [2/5], Loss: 0.0101\n",
      "Epoch [3/5], Loss: 0.0035\n",
      "Epoch [4/5], Loss: 0.0037\n",
      "Epoch [5/5], Loss: 0.0051\n"
     ]
    }
   ],
   "source": [
    "# Convert data to tensors\n",
    "X_train_tensor = torch.tensor(X_train_tfidf.toarray(), dtype=torch.float32)\n",
    "y_train_tensor = torch.tensor(y_train.values, dtype=torch.long)\n",
    "\n",
    "X_test_tensor = torch.tensor(X_test_tfidf.toarray(), dtype=torch.float32)\n",
    "y_test_tensor = torch.tensor(y_test.values, dtype=torch.long)\n",
    "\n",
    "# Create DataLoader\n",
    "train_dataset = TensorDataset(X_train_tensor, y_train_tensor)\n",
    "train_loader = DataLoader(train_dataset, batch_size=64, shuffle=True)\n",
    "\n",
    "# Define the neural network\n",
    "class NewsClassifier(nn.Module):\n",
    "    def __init__(self, input_size):\n",
    "        super(NewsClassifier, self).__init__()\n",
    "        self.fc1 = nn.Linear(input_size, 256)\n",
    "        self.relu1 = nn.ReLU()\n",
    "        self.fc2 = nn.Linear(256, 128)\n",
    "        self.relu2 = nn.ReLU()\n",
    "        self.fc3 = nn.Linear(128, 2)  # Output layer for binary classification\n",
    "\n",
    "    def forward(self, x):\n",
    "        out = self.fc1(x)\n",
    "        out = self.relu1(out)\n",
    "        out = self.fc2(out)\n",
    "        out = self.relu2(out)\n",
    "        out = self.fc3(out)\n",
    "        return out\n",
    "\n",
    "# Initialize the model\n",
    "input_size = X_train_tfidf.shape[1]\n",
    "model_pytorch = NewsClassifier(input_size)\n",
    "\n",
    "# Loss and optimizer\n",
    "criterion = nn.CrossEntropyLoss()\n",
    "optimizer = torch.optim.Adam(model_pytorch.parameters(), lr=0.001)\n",
    "\n",
    "# Training loop\n",
    "num_epochs = 5\n",
    "\n",
    "for epoch in range(num_epochs):\n",
    "    epoch_loss = 0\n",
    "    model_pytorch.train()\n",
    "    for texts, labels in train_loader:\n",
    "        # Forward pass\n",
    "        outputs = model_pytorch(texts)\n",
    "        loss = criterion(outputs, labels)\n",
    "\n",
    "        # Backward and optimize\n",
    "        optimizer.zero_grad()\n",
    "        loss.backward()\n",
    "        optimizer.step()\n",
    "\n",
    "        epoch_loss += loss.item()\n",
    "    \n",
    "    avg_loss = epoch_loss / len(train_loader)\n",
    "    print(f'Epoch [{epoch+1}/{num_epochs}], Loss: {avg_loss:.4f}')"
   ]
  },
  {
   "cell_type": "code",
   "execution_count": 13,
   "id": "eb7dfc9d",
   "metadata": {
    "execution": {
     "iopub.execute_input": "2024-10-22T02:14:49.773143Z",
     "iopub.status.busy": "2024-10-22T02:14:49.772390Z",
     "iopub.status.idle": "2024-10-22T03:11:27.453211Z",
     "shell.execute_reply": "2024-10-22T03:11:27.451951Z"
    },
    "papermill": {
     "duration": 3397.695396,
     "end_time": "2024-10-22T03:11:27.456086",
     "exception": false,
     "start_time": "2024-10-22T02:14:49.760690",
     "status": "completed"
    },
    "tags": []
   },
   "outputs": [
    {
     "name": "stdout",
     "output_type": "stream",
     "text": [
      "\n",
      "Padded Training Data Shape: (35751, 500)\n",
      "Padded Test Data Shape: (8938, 500)\n"
     ]
    },
    {
     "data": {
      "text/html": [
       "<pre style=\"white-space:pre;overflow-x:auto;line-height:normal;font-family:Menlo,'DejaVu Sans Mono',consolas,'Courier New',monospace\"><span style=\"font-weight: bold\">Model: \"sequential\"</span>\n",
       "</pre>\n"
      ],
      "text/plain": [
       "\u001b[1mModel: \"sequential\"\u001b[0m\n"
      ]
     },
     "metadata": {},
     "output_type": "display_data"
    },
    {
     "data": {
      "text/html": [
       "<pre style=\"white-space:pre;overflow-x:auto;line-height:normal;font-family:Menlo,'DejaVu Sans Mono',consolas,'Courier New',monospace\">┏━━━━━━━━━━━━━━━━━━━━━━━━━━━━━━━━━┳━━━━━━━━━━━━━━━━━━━━━━━━┳━━━━━━━━━━━━━━━┓\n",
       "┃<span style=\"font-weight: bold\"> Layer (type)                    </span>┃<span style=\"font-weight: bold\"> Output Shape           </span>┃<span style=\"font-weight: bold\">       Param # </span>┃\n",
       "┡━━━━━━━━━━━━━━━━━━━━━━━━━━━━━━━━━╇━━━━━━━━━━━━━━━━━━━━━━━━╇━━━━━━━━━━━━━━━┩\n",
       "│ embedding (<span style=\"color: #0087ff; text-decoration-color: #0087ff\">Embedding</span>)           │ ?                      │   <span style=\"color: #00af00; text-decoration-color: #00af00\">0</span> (unbuilt) │\n",
       "├─────────────────────────────────┼────────────────────────┼───────────────┤\n",
       "│ lstm (<span style=\"color: #0087ff; text-decoration-color: #0087ff\">LSTM</span>)                     │ ?                      │   <span style=\"color: #00af00; text-decoration-color: #00af00\">0</span> (unbuilt) │\n",
       "├─────────────────────────────────┼────────────────────────┼───────────────┤\n",
       "│ dense (<span style=\"color: #0087ff; text-decoration-color: #0087ff\">Dense</span>)                   │ ?                      │   <span style=\"color: #00af00; text-decoration-color: #00af00\">0</span> (unbuilt) │\n",
       "├─────────────────────────────────┼────────────────────────┼───────────────┤\n",
       "│ dropout (<span style=\"color: #0087ff; text-decoration-color: #0087ff\">Dropout</span>)               │ ?                      │   <span style=\"color: #00af00; text-decoration-color: #00af00\">0</span> (unbuilt) │\n",
       "├─────────────────────────────────┼────────────────────────┼───────────────┤\n",
       "│ dense_1 (<span style=\"color: #0087ff; text-decoration-color: #0087ff\">Dense</span>)                 │ ?                      │   <span style=\"color: #00af00; text-decoration-color: #00af00\">0</span> (unbuilt) │\n",
       "└─────────────────────────────────┴────────────────────────┴───────────────┘\n",
       "</pre>\n"
      ],
      "text/plain": [
       "┏━━━━━━━━━━━━━━━━━━━━━━━━━━━━━━━━━┳━━━━━━━━━━━━━━━━━━━━━━━━┳━━━━━━━━━━━━━━━┓\n",
       "┃\u001b[1m \u001b[0m\u001b[1mLayer (type)                   \u001b[0m\u001b[1m \u001b[0m┃\u001b[1m \u001b[0m\u001b[1mOutput Shape          \u001b[0m\u001b[1m \u001b[0m┃\u001b[1m \u001b[0m\u001b[1m      Param #\u001b[0m\u001b[1m \u001b[0m┃\n",
       "┡━━━━━━━━━━━━━━━━━━━━━━━━━━━━━━━━━╇━━━━━━━━━━━━━━━━━━━━━━━━╇━━━━━━━━━━━━━━━┩\n",
       "│ embedding (\u001b[38;5;33mEmbedding\u001b[0m)           │ ?                      │   \u001b[38;5;34m0\u001b[0m (unbuilt) │\n",
       "├─────────────────────────────────┼────────────────────────┼───────────────┤\n",
       "│ lstm (\u001b[38;5;33mLSTM\u001b[0m)                     │ ?                      │   \u001b[38;5;34m0\u001b[0m (unbuilt) │\n",
       "├─────────────────────────────────┼────────────────────────┼───────────────┤\n",
       "│ dense (\u001b[38;5;33mDense\u001b[0m)                   │ ?                      │   \u001b[38;5;34m0\u001b[0m (unbuilt) │\n",
       "├─────────────────────────────────┼────────────────────────┼───────────────┤\n",
       "│ dropout (\u001b[38;5;33mDropout\u001b[0m)               │ ?                      │   \u001b[38;5;34m0\u001b[0m (unbuilt) │\n",
       "├─────────────────────────────────┼────────────────────────┼───────────────┤\n",
       "│ dense_1 (\u001b[38;5;33mDense\u001b[0m)                 │ ?                      │   \u001b[38;5;34m0\u001b[0m (unbuilt) │\n",
       "└─────────────────────────────────┴────────────────────────┴───────────────┘\n"
      ]
     },
     "metadata": {},
     "output_type": "display_data"
    },
    {
     "data": {
      "text/html": [
       "<pre style=\"white-space:pre;overflow-x:auto;line-height:normal;font-family:Menlo,'DejaVu Sans Mono',consolas,'Courier New',monospace\"><span style=\"font-weight: bold\"> Total params: </span><span style=\"color: #00af00; text-decoration-color: #00af00\">0</span> (0.00 B)\n",
       "</pre>\n"
      ],
      "text/plain": [
       "\u001b[1m Total params: \u001b[0m\u001b[38;5;34m0\u001b[0m (0.00 B)\n"
      ]
     },
     "metadata": {},
     "output_type": "display_data"
    },
    {
     "data": {
      "text/html": [
       "<pre style=\"white-space:pre;overflow-x:auto;line-height:normal;font-family:Menlo,'DejaVu Sans Mono',consolas,'Courier New',monospace\"><span style=\"font-weight: bold\"> Trainable params: </span><span style=\"color: #00af00; text-decoration-color: #00af00\">0</span> (0.00 B)\n",
       "</pre>\n"
      ],
      "text/plain": [
       "\u001b[1m Trainable params: \u001b[0m\u001b[38;5;34m0\u001b[0m (0.00 B)\n"
      ]
     },
     "metadata": {},
     "output_type": "display_data"
    },
    {
     "data": {
      "text/html": [
       "<pre style=\"white-space:pre;overflow-x:auto;line-height:normal;font-family:Menlo,'DejaVu Sans Mono',consolas,'Courier New',monospace\"><span style=\"font-weight: bold\"> Non-trainable params: </span><span style=\"color: #00af00; text-decoration-color: #00af00\">0</span> (0.00 B)\n",
       "</pre>\n"
      ],
      "text/plain": [
       "\u001b[1m Non-trainable params: \u001b[0m\u001b[38;5;34m0\u001b[0m (0.00 B)\n"
      ]
     },
     "metadata": {},
     "output_type": "display_data"
    },
    {
     "name": "stdout",
     "output_type": "stream",
     "text": [
      "Epoch 1/10\n",
      "447/447 - 336s - 751ms/step - accuracy: 0.5374 - loss: 0.6885 - val_accuracy: 0.5531 - val_loss: 0.6723\n",
      "Epoch 2/10\n",
      "447/447 - 331s - 740ms/step - accuracy: 0.5545 - loss: 0.6695 - val_accuracy: 0.5552 - val_loss: 0.6640\n",
      "Epoch 3/10\n",
      "447/447 - 332s - 742ms/step - accuracy: 0.7256 - loss: 0.5099 - val_accuracy: 0.8586 - val_loss: 0.3545\n",
      "Epoch 4/10\n",
      "447/447 - 332s - 742ms/step - accuracy: 0.9272 - loss: 0.2031 - val_accuracy: 0.9750 - val_loss: 0.0768\n",
      "Epoch 5/10\n",
      "447/447 - 330s - 739ms/step - accuracy: 0.9724 - loss: 0.0836 - val_accuracy: 0.9761 - val_loss: 0.0885\n",
      "Epoch 6/10\n",
      "447/447 - 333s - 744ms/step - accuracy: 0.9846 - loss: 0.0538 - val_accuracy: 0.9890 - val_loss: 0.0346\n",
      "Epoch 7/10\n",
      "447/447 - 333s - 745ms/step - accuracy: 0.9933 - loss: 0.0262 - val_accuracy: 0.9919 - val_loss: 0.0254\n",
      "Epoch 8/10\n",
      "447/447 - 332s - 743ms/step - accuracy: 0.9965 - loss: 0.0126 - val_accuracy: 0.9937 - val_loss: 0.0200\n",
      "Epoch 9/10\n",
      "447/447 - 382s - 855ms/step - accuracy: 0.9976 - loss: 0.0093 - val_accuracy: 0.9936 - val_loss: 0.0221\n",
      "Epoch 10/10\n",
      "447/447 - 332s - 744ms/step - accuracy: 0.9984 - loss: 0.0061 - val_accuracy: 0.9933 - val_loss: 0.0220\n"
     ]
    }
   ],
   "source": [
    "# Define parameters for Tokenizer and padding\n",
    "MAX_NUM_WORDS = 5000  # Vocabulary size\n",
    "MAX_SEQUENCE_LENGTH = 500  # Maximum sequence length\n",
    "\n",
    "# Initialize Tokenizer\n",
    "tokenizer_lstm = Tokenizer(num_words=MAX_NUM_WORDS, oov_token=\"<OOV>\")\n",
    "tokenizer_lstm.fit_on_texts(X_train)\n",
    "\n",
    "# Convert texts to sequences\n",
    "X_train_sequences = tokenizer_lstm.texts_to_sequences(X_train)\n",
    "X_test_sequences = tokenizer_lstm.texts_to_sequences(X_test)\n",
    "\n",
    "# Pad sequences to ensure uniform length\n",
    "X_train_padded = pad_sequences(X_train_sequences, maxlen=MAX_SEQUENCE_LENGTH, padding='post', truncating='post')\n",
    "X_test_padded = pad_sequences(X_test_sequences, maxlen=MAX_SEQUENCE_LENGTH, padding='post', truncating='post')\n",
    "\n",
    "print(f\"\\nPadded Training Data Shape: {X_train_padded.shape}\")\n",
    "print(f\"Padded Test Data Shape: {X_test_padded.shape}\")\n",
    "\n",
    "# Define LSTM model architecture\n",
    "model_lstm = Sequential([\n",
    "    Embedding(input_dim=MAX_NUM_WORDS, output_dim=128, input_length=MAX_SEQUENCE_LENGTH),\n",
    "    LSTM(128, dropout=0.2, recurrent_dropout=0.2),\n",
    "    Dense(64, activation='relu'),\n",
    "    Dropout(0.5),\n",
    "    Dense(1, activation='sigmoid')  # Binary classification\n",
    "])\n",
    "\n",
    "# Compile the model\n",
    "model_lstm.compile(optimizer=Adam(learning_rate=0.001),\n",
    "                  loss='binary_crossentropy',\n",
    "                  metrics=['accuracy'])\n",
    "\n",
    "# Display model summary\n",
    "model_lstm.summary()\n",
    "\n",
    "# Train the model with Early Stopping\n",
    "early_stop = EarlyStopping(monitor='val_loss', patience=3, restore_best_weights=True)\n",
    "\n",
    "history = model_lstm.fit(\n",
    "    X_train_padded,\n",
    "    y_train,\n",
    "    epochs=10,\n",
    "    batch_size=64,\n",
    "    validation_split=0.2,\n",
    "    callbacks=[early_stop],\n",
    "    verbose=2\n",
    ")"
   ]
  },
  {
   "cell_type": "code",
   "execution_count": 14,
   "id": "dbe73e1e",
   "metadata": {
    "execution": {
     "iopub.execute_input": "2024-10-22T03:11:27.484097Z",
     "iopub.status.busy": "2024-10-22T03:11:27.483654Z",
     "iopub.status.idle": "2024-10-22T03:11:27.793893Z",
     "shell.execute_reply": "2024-10-22T03:11:27.792734Z"
    },
    "papermill": {
     "duration": 0.327531,
     "end_time": "2024-10-22T03:11:27.796597",
     "exception": false,
     "start_time": "2024-10-22T03:11:27.469066",
     "status": "completed"
    },
    "tags": []
   },
   "outputs": [
    {
     "name": "stdout",
     "output_type": "stream",
     "text": [
      "\n",
      "Naive Bayes Classifier Metrics:\n",
      "Accuracy: 0.9340\n",
      "Precision: 0.9298\n",
      "Recall: 0.9312\n",
      "F1 Score: 0.9305\n"
     ]
    },
    {
     "data": {
      "image/png": "[encoded data removed]",
      "text/plain": [
       "<Figure size 600x400 with 2 Axes>"
      ]
     },
     "metadata": {},
     "output_type": "display_data"
    }
   ],
   "source": [
    "# Predictions\n",
    "nb_predictions = nb_classifier.predict(X_test_tfidf)\n",
    "\n",
    "# Evaluation\n",
    "print(\"\\nNaive Bayes Classifier Metrics:\")\n",
    "print(f\"Accuracy: {accuracy_score(y_test, nb_predictions):.4f}\")\n",
    "print(f\"Precision: {precision_score(y_test, nb_predictions):.4f}\")\n",
    "print(f\"Recall: {recall_score(y_test, nb_predictions):.4f}\")\n",
    "print(f\"F1 Score: {f1_score(y_test, nb_predictions):.4f}\")\n",
    "\n",
    "# Confusion Matrix\n",
    "nb_cm = confusion_matrix(y_test, nb_predictions)\n",
    "plt.figure(figsize=(6,4))\n",
    "sns.heatmap(nb_cm, annot=True, fmt='d', cmap='Blues', xticklabels=['Fake', 'True'], yticklabels=['Fake', 'True'])\n",
    "plt.title('Naive Bayes Confusion Matrix')\n",
    "plt.xlabel('Predicted')\n",
    "plt.ylabel('Actual')\n",
    "plt.show()"
   ]
  },
  {
   "cell_type": "code",
   "execution_count": 15,
   "id": "7d1c2a68",
   "metadata": {
    "execution": {
     "iopub.execute_input": "2024-10-22T03:11:27.826443Z",
     "iopub.status.busy": "2024-10-22T03:11:27.826014Z",
     "iopub.status.idle": "2024-10-22T03:11:28.084401Z",
     "shell.execute_reply": "2024-10-22T03:11:28.083237Z"
    },
    "papermill": {
     "duration": 0.276387,
     "end_time": "2024-10-22T03:11:28.086949",
     "exception": false,
     "start_time": "2024-10-22T03:11:27.810562",
     "status": "completed"
    },
    "tags": []
   },
   "outputs": [
    {
     "name": "stdout",
     "output_type": "stream",
     "text": [
      "\n",
      "Logistic Regression Classifier Metrics:\n",
      "Accuracy: 0.9887\n",
      "Precision: 0.9841\n",
      "Recall: 0.9922\n",
      "F1 Score: 0.9881\n"
     ]
    },
    {
     "data": {
      "image/png": "[encoded data removed]",
      "text/plain": [
       "<Figure size 600x400 with 2 Axes>"
      ]
     },
     "metadata": {},
     "output_type": "display_data"
    }
   ],
   "source": [
    "# Predictions\n",
    "lr_predictions = lr_classifier.predict(X_test_tfidf)\n",
    "\n",
    "# Evaluation\n",
    "print(\"\\nLogistic Regression Classifier Metrics:\")\n",
    "print(f\"Accuracy: {accuracy_score(y_test, lr_predictions):.4f}\")\n",
    "print(f\"Precision: {precision_score(y_test, lr_predictions):.4f}\")\n",
    "print(f\"Recall: {recall_score(y_test, lr_predictions):.4f}\")\n",
    "print(f\"F1 Score: {f1_score(y_test, lr_predictions):.4f}\")\n",
    "\n",
    "# Confusion Matrix\n",
    "lr_cm = confusion_matrix(y_test, lr_predictions)\n",
    "plt.figure(figsize=(6,4))\n",
    "sns.heatmap(lr_cm, annot=True, fmt='d', cmap='Greens', xticklabels=['Fake', 'True'], yticklabels=['Fake', 'True'])\n",
    "plt.title('Logistic Regression Confusion Matrix')\n",
    "plt.xlabel('Predicted')\n",
    "plt.ylabel('Actual')\n",
    "plt.show()"
   ]
  },
  {
   "cell_type": "code",
   "execution_count": 16,
   "id": "478f8e1b",
   "metadata": {
    "execution": {
     "iopub.execute_input": "2024-10-22T03:11:28.117826Z",
     "iopub.status.busy": "2024-10-22T03:11:28.117381Z",
     "iopub.status.idle": "2024-10-22T03:11:28.659834Z",
     "shell.execute_reply": "2024-10-22T03:11:28.658477Z"
    },
    "papermill": {
     "duration": 0.561173,
     "end_time": "2024-10-22T03:11:28.662592",
     "exception": false,
     "start_time": "2024-10-22T03:11:28.101419",
     "status": "completed"
    },
    "tags": []
   },
   "outputs": [
    {
     "name": "stdout",
     "output_type": "stream",
     "text": [
      "\n",
      "Neural Network (PyTorch) Classifier Metrics:\n",
      "Accuracy: 0.9893\n",
      "Precision: 0.9862\n",
      "Recall: 0.9913\n",
      "F1 Score: 0.9887\n"
     ]
    },
    {
     "data": {
      "image/png": "[encoded data removed]",
      "text/plain": [
       "<Figure size 600x400 with 2 Axes>"
      ]
     },
     "metadata": {},
     "output_type": "display_data"
    }
   ],
   "source": [
    "# Switch model to evaluation mode\n",
    "model_pytorch.eval()\n",
    "\n",
    "# No gradient calculation needed\n",
    "with torch.no_grad():\n",
    "    outputs = model_pytorch(X_test_tensor)\n",
    "    _, nn_predictions = torch.max(outputs, 1)\n",
    "\n",
    "# Evaluation\n",
    "print(\"\\nNeural Network (PyTorch) Classifier Metrics:\")\n",
    "print(f\"Accuracy: {accuracy_score(y_test_tensor, nn_predictions):.4f}\")\n",
    "print(f\"Precision: {precision_score(y_test_tensor, nn_predictions):.4f}\")\n",
    "print(f\"Recall: {recall_score(y_test_tensor, nn_predictions):.4f}\")\n",
    "print(f\"F1 Score: {f1_score(y_test_tensor, nn_predictions):.4f}\")\n",
    "\n",
    "# Confusion Matrix\n",
    "nn_cm = confusion_matrix(y_test_tensor, nn_predictions)\n",
    "plt.figure(figsize=(6,4))\n",
    "sns.heatmap(nn_cm, annot=True, fmt='d', cmap='Oranges', xticklabels=['Fake', 'True'], yticklabels=['Fake', 'True'])\n",
    "plt.title('Neural Network (PyTorch) Confusion Matrix')\n",
    "plt.xlabel('Predicted')\n",
    "plt.ylabel('Actual')\n",
    "plt.show()"
   ]
  },
  {
   "cell_type": "code",
   "execution_count": 17,
   "id": "51d78ead",
   "metadata": {
    "execution": {
     "iopub.execute_input": "2024-10-22T03:11:28.695318Z",
     "iopub.status.busy": "2024-10-22T03:11:28.694200Z",
     "iopub.status.idle": "2024-10-22T03:12:22.906390Z",
     "shell.execute_reply": "2024-10-22T03:12:22.905289Z"
    },
    "papermill": {
     "duration": 54.231249,
     "end_time": "2024-10-22T03:12:22.908895",
     "exception": false,
     "start_time": "2024-10-22T03:11:28.677646",
     "status": "completed"
    },
    "tags": []
   },
   "outputs": [
    {
     "name": "stdout",
     "output_type": "stream",
     "text": [
      "\u001b[1m280/280\u001b[0m \u001b[32m━━━━━━━━━━━━━━━━━━━━\u001b[0m\u001b[37m\u001b[0m \u001b[1m54s\u001b[0m 191ms/step\n",
      "\n",
      "LSTM Model Classification Report:\n",
      "              precision    recall  f1-score   support\n",
      "\n",
      "           0       0.99      0.99      0.99      4696\n",
      "           1       0.99      0.99      0.99      4242\n",
      "\n",
      "    accuracy                           0.99      8938\n",
      "   macro avg       0.99      0.99      0.99      8938\n",
      "weighted avg       0.99      0.99      0.99      8938\n",
      "\n"
     ]
    },
    {
     "data": {
      "image/png": "[encoded data removed]",
      "text/plain": [
       "<Figure size 600x400 with 2 Axes>"
      ]
     },
     "metadata": {},
     "output_type": "display_data"
    }
   ],
   "source": [
    "# Predictions probabilities\n",
    "y_pred_probs_lstm = model_lstm.predict(X_test_padded).flatten()\n",
    "\n",
    "# Convert probabilities to binary predictions (default threshold 0.5)\n",
    "y_pred_lstm = (y_pred_probs_lstm >= 0.5).astype(int)\n",
    "\n",
    "# Classification Report\n",
    "print(\"\\nLSTM Model Classification Report:\")\n",
    "print(classification_report(y_test, y_pred_lstm))\n",
    "\n",
    "# Confusion Matrix\n",
    "cm_lstm = confusion_matrix(y_test, y_pred_lstm)\n",
    "plt.figure(figsize=(6,4))\n",
    "sns.heatmap(cm_lstm, annot=True, fmt='d', cmap='Purples', xticklabels=['Fake', 'True'], yticklabels=['Fake', 'True'])\n",
    "plt.title('LSTM Model Confusion Matrix')\n",
    "plt.xlabel('Predicted')\n",
    "plt.ylabel('Actual')\n",
    "plt.show()"
   ]
  },
  {
   "cell_type": "code",
   "execution_count": 18,
   "id": "ab7abc4b",
   "metadata": {
    "execution": {
     "iopub.execute_input": "2024-10-22T03:12:22.994852Z",
     "iopub.status.busy": "2024-10-22T03:12:22.993737Z",
     "iopub.status.idle": "2024-10-22T03:12:23.093643Z",
     "shell.execute_reply": "2024-10-22T03:12:23.092398Z"
    },
    "papermill": {
     "duration": 0.145481,
     "end_time": "2024-10-22T03:12:23.096195",
     "exception": false,
     "start_time": "2024-10-22T03:12:22.950714",
     "status": "completed"
    },
    "tags": []
   },
   "outputs": [
    {
     "name": "stdout",
     "output_type": "stream",
     "text": [
      "\n",
      "Naive Bayes Classification Report:\n",
      "              precision    recall  f1-score   support\n",
      "\n",
      "           0       0.94      0.94      0.94      4696\n",
      "           1       0.93      0.93      0.93      4242\n",
      "\n",
      "    accuracy                           0.93      8938\n",
      "   macro avg       0.93      0.93      0.93      8938\n",
      "weighted avg       0.93      0.93      0.93      8938\n",
      "\n",
      "Logistic Regression Classification Report:\n",
      "              precision    recall  f1-score   support\n",
      "\n",
      "           0       0.99      0.99      0.99      4696\n",
      "           1       0.98      0.99      0.99      4242\n",
      "\n",
      "    accuracy                           0.99      8938\n",
      "   macro avg       0.99      0.99      0.99      8938\n",
      "weighted avg       0.99      0.99      0.99      8938\n",
      "\n",
      "Neural Network (PyTorch) Classification Report:\n",
      "              precision    recall  f1-score   support\n",
      "\n",
      "           0       0.99      0.99      0.99      4696\n",
      "           1       0.99      0.99      0.99      4242\n",
      "\n",
      "    accuracy                           0.99      8938\n",
      "   macro avg       0.99      0.99      0.99      8938\n",
      "weighted avg       0.99      0.99      0.99      8938\n",
      "\n",
      "LSTM Model Classification Report:\n",
      "              precision    recall  f1-score   support\n",
      "\n",
      "           0       0.99      0.99      0.99      4696\n",
      "           1       0.99      0.99      0.99      4242\n",
      "\n",
      "    accuracy                           0.99      8938\n",
      "   macro avg       0.99      0.99      0.99      8938\n",
      "weighted avg       0.99      0.99      0.99      8938\n",
      "\n"
     ]
    }
   ],
   "source": [
    "print(\"\\nNaive Bayes Classification Report:\")\n",
    "print(classification_report(y_test, nb_predictions))\n",
    "\n",
    "print(\"Logistic Regression Classification Report:\")\n",
    "print(classification_report(y_test, lr_predictions))\n",
    "\n",
    "print(\"Neural Network (PyTorch) Classification Report:\")\n",
    "print(classification_report(y_test_tensor, nn_predictions))\n",
    "\n",
    "print(\"LSTM Model Classification Report:\")\n",
    "print(classification_report(y_test, y_pred_lstm))"
   ]
  },
  {
   "cell_type": "code",
   "execution_count": 19,
   "id": "28751c86",
   "metadata": {
    "execution": {
     "iopub.execute_input": "2024-10-22T03:12:23.181448Z",
     "iopub.status.busy": "2024-10-22T03:12:23.180995Z",
     "iopub.status.idle": "2024-10-22T03:13:15.227715Z",
     "shell.execute_reply": "2024-10-22T03:13:15.226447Z"
    },
    "papermill": {
     "duration": 52.092468,
     "end_time": "2024-10-22T03:13:15.230363",
     "exception": false,
     "start_time": "2024-10-22T03:12:23.137895",
     "status": "completed"
    },
    "tags": []
   },
   "outputs": [
    {
     "name": "stdout",
     "output_type": "stream",
     "text": [
      "\n",
      "Best parameters found for Logistic Regression: {'C': 10, 'max_iter': 1000, 'solver': 'liblinear'}\n",
      "\n",
      "Optimized Logistic Regression Metrics:\n",
      "Accuracy: 0.9943\n",
      "Precision: 0.9927\n",
      "Recall: 0.9953\n",
      "F1 Score: 0.9940\n"
     ]
    },
    {
     "data": {
      "image/png": "[encoded data removed]",
      "text/plain": [
       "<Figure size 600x400 with 2 Axes>"
      ]
     },
     "metadata": {},
     "output_type": "display_data"
    }
   ],
   "source": [
    "# Define parameter grid for Logistic Regression\n",
    "param_grid = {\n",
    "    'C': [0.1, 1, 10],\n",
    "    'solver': ['liblinear', 'lbfgs'],\n",
    "    'max_iter': [1000]\n",
    "}\n",
    "\n",
    "# Grid Search with Cross-Validation\n",
    "grid_search = GridSearchCV(LogisticRegression(), param_grid, cv=5, scoring='f1')\n",
    "grid_search.fit(X_train_tfidf, y_train)\n",
    "\n",
    "# Best parameters\n",
    "print(f\"\\nBest parameters found for Logistic Regression: {grid_search.best_params_}\")\n",
    "\n",
    "# Best estimator\n",
    "best_lr_model = grid_search.best_estimator_\n",
    "\n",
    "# Evaluate the best model\n",
    "best_lr_predictions = best_lr_model.predict(X_test_tfidf)\n",
    "\n",
    "print(\"\\nOptimized Logistic Regression Metrics:\")\n",
    "print(f\"Accuracy: {accuracy_score(y_test, best_lr_predictions):.4f}\")\n",
    "print(f\"Precision: {precision_score(y_test, best_lr_predictions):.4f}\")\n",
    "print(f\"Recall: {recall_score(y_test, best_lr_predictions):.4f}\")\n",
    "print(f\"F1 Score: {f1_score(y_test, best_lr_predictions):.4f}\")\n",
    "\n",
    "# Confusion Matrix\n",
    "best_lr_cm = confusion_matrix(y_test, best_lr_predictions)\n",
    "plt.figure(figsize=(6,4))\n",
    "sns.heatmap(best_lr_cm, annot=True, fmt='d', cmap='Purples', xticklabels=['Fake', 'True'], yticklabels=['Fake', 'True'])\n",
    "plt.title('Optimized Logistic Regression Confusion Matrix')\n",
    "plt.xlabel('Predicted')\n",
    "plt.ylabel('Actual')\n",
    "plt.show()"
   ]
  },
  {
   "cell_type": "code",
   "execution_count": 20,
   "id": "97d87128",
   "metadata": {
    "execution": {
     "iopub.execute_input": "2024-10-22T03:13:15.318319Z",
     "iopub.status.busy": "2024-10-22T03:13:15.317822Z",
     "iopub.status.idle": "2024-10-22T03:13:18.908416Z",
     "shell.execute_reply": "2024-10-22T03:13:18.907248Z"
    },
    "papermill": {
     "duration": 3.637467,
     "end_time": "2024-10-22T03:13:18.910898",
     "exception": false,
     "start_time": "2024-10-22T03:13:15.273431",
     "status": "completed"
    },
    "tags": []
   },
   "outputs": [
    {
     "name": "stdout",
     "output_type": "stream",
     "text": [
      "\n",
      "Ensemble Classifier Metrics:\n",
      "Accuracy: 0.9867\n",
      "Precision: 0.9824\n",
      "Recall: 0.9896\n",
      "F1 Score: 0.9860\n"
     ]
    },
    {
     "data": {
      "image/png": "[encoded data removed]",
      "text/plain": [
       "<Figure size 600x400 with 2 Axes>"
      ]
     },
     "metadata": {},
     "output_type": "display_data"
    }
   ],
   "source": [
    "from sklearn.ensemble import VotingClassifier\n",
    "\n",
    "# Create ensemble of classifiers\n",
    "ensemble_classifier = VotingClassifier(\n",
    "    estimators=[\n",
    "        ('nb', nb_classifier),\n",
    "        ('lr', best_lr_model)\n",
    "    ],\n",
    "    voting='soft'  # 'hard' voting can also be used\n",
    ")\n",
    "\n",
    "# Train ensemble\n",
    "ensemble_classifier.fit(X_train_tfidf, y_train)\n",
    "\n",
    "# Predictions\n",
    "ensemble_predictions = ensemble_classifier.predict(X_test_tfidf)\n",
    "\n",
    "# Evaluation\n",
    "print(\"\\nEnsemble Classifier Metrics:\")\n",
    "print(f\"Accuracy: {accuracy_score(y_test, ensemble_predictions):.4f}\")\n",
    "print(f\"Precision: {precision_score(y_test, ensemble_predictions):.4f}\")\n",
    "print(f\"Recall: {recall_score(y_test, ensemble_predictions):.4f}\")\n",
    "print(f\"F1 Score: {f1_score(y_test, ensemble_predictions):.4f}\")\n",
    "\n",
    "# Confusion Matrix\n",
    "ensemble_cm = confusion_matrix(y_test, ensemble_predictions)\n",
    "plt.figure(figsize=(6,4))\n",
    "sns.heatmap(ensemble_cm, annot=True, fmt='d', cmap='Greys', xticklabels=['Fake', 'True'], yticklabels=['Fake', 'True'])\n",
    "plt.title('Ensemble Classifier Confusion Matrix')\n",
    "plt.xlabel('Predicted')\n",
    "plt.ylabel('Actual')\n",
    "plt.show()"
   ]
  }
 ],
 "metadata": {
  "kaggle": {
   "accelerator": "none",
   "dataSources": [
    {
     "datasetId": 5922046,
     "sourceId": 9687281,
     "sourceType": "datasetVersion"
    }
   ],
   "dockerImageVersionId": 30786,
   "isGpuEnabled": false,
   "isInternetEnabled": true,
   "language": "python",
   "sourceType": "notebook"
  },
  "kernelspec": {
   "display_name": "Python 3",
   "language": "python",
   "name": "python3"
  },
  "language_info": {
   "codemirror_mode": {
    "name": "ipython",
    "version": 3
   },
   "file_extension": ".py",
   "mimetype": "text/x-python",
   "name": "python",
   "nbconvert_exporter": "python",
   "pygments_lexer": "ipython3",
   "version": "3.10.14"
  },
  "papermill": {
   "default_parameters": {},
   "duration": 3893.369885,
   "end_time": "2024-10-22T03:13:22.351150",
   "environment_variables": {},
   "exception": null,
   "input_path": "__notebook__.ipynb",
   "output_path": "__notebook__.ipynb",
   "parameters": {},
   "start_time": "2024-10-22T02:08:28.981265",
   "version": "2.6.0"
  }
 },
 "nbformat": 4,
 "nbformat_minor": 5
}
